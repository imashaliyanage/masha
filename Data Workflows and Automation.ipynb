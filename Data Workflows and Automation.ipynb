{
 "cells": [
  {
   "cell_type": "code",
   "execution_count": 1,
   "metadata": {},
   "outputs": [
    {
     "name": "stdout",
     "output_type": "stream",
     "text": [
      "['lion', 'tiger', 'crocodile', 'vulture', 'hippo']\n"
     ]
    }
   ],
   "source": [
    "animals = ['lion', 'tiger', 'crocodile', 'vulture', 'hippo']\n",
    "print(animals)"
   ]
  },
  {
   "cell_type": "code",
   "execution_count": 2,
   "metadata": {},
   "outputs": [
    {
     "name": "stdout",
     "output_type": "stream",
     "text": [
      "lion\n",
      "tiger\n",
      "crocodile\n",
      "vulture\n",
      "hippo\n"
     ]
    }
   ],
   "source": [
    "for creature in animals:\n",
    "    print(creature)"
   ]
  },
  {
   "cell_type": "code",
   "execution_count": 3,
   "metadata": {},
   "outputs": [],
   "source": [
    "animals = ['lion', 'tiger', 'crocodile', 'vulture', 'hippo']\n",
    "for creature in animals:\n",
    "    pass"
   ]
  },
  {
   "cell_type": "code",
   "execution_count": 4,
   "metadata": {},
   "outputs": [
    {
     "name": "stdout",
     "output_type": "stream",
     "text": [
      "The loop variable is now: hippo\n"
     ]
    }
   ],
   "source": [
    "print('The loop variable is now: ' + creature)"
   ]
  },
  {
   "cell_type": "code",
   "execution_count": 8,
   "metadata": {},
   "outputs": [],
   "source": [
    "import os\n",
    "\n",
    "os.mkdir('Downloads/yearly_files')"
   ]
  },
  {
   "cell_type": "code",
   "execution_count": 7,
   "metadata": {},
   "outputs": [
    {
     "data": {
      "text/plain": [
       "['Anaconda3-2019.10-Windows-x86_64.exe',\n",
       " 'AutoCAD_2017_English_Win_32_64bit_wi_en-us_Setup.exe',\n",
       " 'AutoCAD_2017_English_Win_32_64bit_wi_en-us_Setup_webinstall.exe',\n",
       " 'desktop.ini',\n",
       " 'FILMS - Shortcut.lnk',\n",
       " 'GitHubDesktopSetup (1).exe',\n",
       " 'GitHubDesktopSetup.exe',\n",
       " 'plots.csv',\n",
       " 'PopcornTime',\n",
       " 'portal_mammals (1).sqlite',\n",
       " 'portal_mammals.sqlite',\n",
       " 'Shareit',\n",
       " 'species.csv',\n",
       " 'speciesSubset.csv',\n",
       " 'surveys.csv']"
      ]
     },
     "execution_count": 7,
     "metadata": {},
     "output_type": "execute_result"
    }
   ],
   "source": [
    "os.listdir('Downloads')"
   ]
  },
  {
   "cell_type": "code",
   "execution_count": 10,
   "metadata": {},
   "outputs": [],
   "source": [
    "import pandas as pd\n",
    "surveys_df = pd.read_csv('Downloads/surveys.csv')\n",
    "surveys2002 = surveys_df[surveys_df.year == 2002]\n",
    "surveys2002.to_csv('Downloads/yearly_files/surveys2002.csv')\n"
   ]
  },
  {
   "cell_type": "code",
   "execution_count": 12,
   "metadata": {},
   "outputs": [
    {
     "data": {
      "text/plain": [
       "0        1977\n",
       "1        1977\n",
       "2        1977\n",
       "3        1977\n",
       "4        1977\n",
       "         ... \n",
       "35544    2002\n",
       "35545    2002\n",
       "35546    2002\n",
       "35547    2002\n",
       "35548    2002\n",
       "Name: year, Length: 35549, dtype: int64"
      ]
     },
     "execution_count": 12,
     "metadata": {},
     "output_type": "execute_result"
    }
   ],
   "source": [
    "surveys_df['year']"
   ]
  },
  {
   "cell_type": "code",
   "execution_count": 13,
   "metadata": {},
   "outputs": [
    {
     "data": {
      "text/plain": [
       "array([1977, 1978, 1979, 1980, 1981, 1982, 1983, 1984, 1985, 1986, 1987,\n",
       "       1988, 1989, 1990, 1991, 1992, 1993, 1994, 1995, 1996, 1997, 1998,\n",
       "       1999, 2000, 2001, 2002], dtype=int64)"
      ]
     },
     "execution_count": 13,
     "metadata": {},
     "output_type": "execute_result"
    }
   ],
   "source": [
    "surveys_df['year'].unique()"
   ]
  },
  {
   "cell_type": "code",
   "execution_count": 14,
   "metadata": {},
   "outputs": [
    {
     "name": "stdout",
     "output_type": "stream",
     "text": [
      "data/yearly_files/surveys1977.csv\n",
      "data/yearly_files/surveys1978.csv\n",
      "data/yearly_files/surveys1979.csv\n",
      "data/yearly_files/surveys1980.csv\n",
      "data/yearly_files/surveys1981.csv\n",
      "data/yearly_files/surveys1982.csv\n",
      "data/yearly_files/surveys1983.csv\n",
      "data/yearly_files/surveys1984.csv\n",
      "data/yearly_files/surveys1985.csv\n",
      "data/yearly_files/surveys1986.csv\n",
      "data/yearly_files/surveys1987.csv\n",
      "data/yearly_files/surveys1988.csv\n",
      "data/yearly_files/surveys1989.csv\n",
      "data/yearly_files/surveys1990.csv\n",
      "data/yearly_files/surveys1991.csv\n",
      "data/yearly_files/surveys1992.csv\n",
      "data/yearly_files/surveys1993.csv\n",
      "data/yearly_files/surveys1994.csv\n",
      "data/yearly_files/surveys1995.csv\n",
      "data/yearly_files/surveys1996.csv\n",
      "data/yearly_files/surveys1997.csv\n",
      "data/yearly_files/surveys1998.csv\n",
      "data/yearly_files/surveys1999.csv\n",
      "data/yearly_files/surveys2000.csv\n",
      "data/yearly_files/surveys2001.csv\n",
      "data/yearly_files/surveys2002.csv\n"
     ]
    }
   ],
   "source": [
    "for year in surveys_df['year'].unique():\n",
    "   filename='data/yearly_files/surveys' + str(year) + '.csv'\n",
    "   print(filename)"
   ]
  },
  {
   "cell_type": "code",
   "execution_count": 1,
   "metadata": {},
   "outputs": [
    {
     "ename": "IndentationError",
     "evalue": "unexpected indent (<ipython-input-1-a764a5c785a7>, line 2)",
     "output_type": "error",
     "traceback": [
      "\u001b[1;36m  File \u001b[1;32m\"<ipython-input-1-a764a5c785a7>\"\u001b[1;36m, line \u001b[1;32m2\u001b[0m\n\u001b[1;33m    surveys_year.to_csv(filename)\u001b[0m\n\u001b[1;37m    ^\u001b[0m\n\u001b[1;31mIndentationError\u001b[0m\u001b[1;31m:\u001b[0m unexpected indent\n"
     ]
    }
   ],
   "source": [
    " filename = 'Downloads/yearly_files/surveys' + str(year) + '.csv'\n",
    "    surveys_year.to_csv(filename)"
   ]
  },
  {
   "cell_type": "code",
   "execution_count": 19,
   "metadata": {},
   "outputs": [],
   "source": [
    "filename = 'data/yearly_files/surveys' + str(year) + '.csv'"
   ]
  },
  {
   "cell_type": "code",
   "execution_count": 21,
   "metadata": {},
   "outputs": [
    {
     "ename": "NameError",
     "evalue": "name 'product_of_inputs' is not defined",
     "output_type": "error",
     "traceback": [
      "\u001b[1;31m---------------------------------------------------------------------------\u001b[0m",
      "\u001b[1;31mNameError\u001b[0m                                 Traceback (most recent call last)",
      "\u001b[1;32m<ipython-input-21-e829c3b7c13e>\u001b[0m in \u001b[0;36m<module>\u001b[1;34m\u001b[0m\n\u001b[1;32m----> 1\u001b[1;33m \u001b[0mprint\u001b[0m\u001b[1;33m(\u001b[0m\u001b[1;34m'Their product is:'\u001b[0m\u001b[1;33m,\u001b[0m \u001b[0mproduct_of_inputs\u001b[0m\u001b[1;33m,\u001b[0m \u001b[1;34m'(this is done outside the function!)'\u001b[0m\u001b[1;33m)\u001b[0m\u001b[1;33m\u001b[0m\u001b[1;33m\u001b[0m\u001b[0m\n\u001b[0m",
      "\u001b[1;31mNameError\u001b[0m: name 'product_of_inputs' is not defined"
     ]
    }
   ],
   "source": [
    "print('Their product is:', product_of_inputs, '(this is done outside the function!)')"
   ]
  },
  {
   "cell_type": "code",
   "execution_count": 22,
   "metadata": {},
   "outputs": [
    {
     "name": "stdout",
     "output_type": "stream",
     "text": [
      "Object `one_year_csv_writer` not found.\n"
     ]
    }
   ],
   "source": [
    "one_year_csv_writer?"
   ]
  },
  {
   "cell_type": "code",
   "execution_count": 23,
   "metadata": {},
   "outputs": [
    {
     "ename": "NameError",
     "evalue": "name 'one_year_csv_writer' is not defined",
     "output_type": "error",
     "traceback": [
      "\u001b[1;31m---------------------------------------------------------------------------\u001b[0m",
      "\u001b[1;31mNameError\u001b[0m                                 Traceback (most recent call last)",
      "\u001b[1;32m<ipython-input-23-715756ce09f3>\u001b[0m in \u001b[0;36m<module>\u001b[1;34m\u001b[0m\n\u001b[1;32m----> 1\u001b[1;33m \u001b[0mone_year_csv_writer\u001b[0m\u001b[1;33m(\u001b[0m\u001b[1;36m2002\u001b[0m\u001b[1;33m,\u001b[0m \u001b[0msurveys_df\u001b[0m\u001b[1;33m)\u001b[0m\u001b[1;33m\u001b[0m\u001b[1;33m\u001b[0m\u001b[0m\n\u001b[0m",
      "\u001b[1;31mNameError\u001b[0m: name 'one_year_csv_writer' is not defined"
     ]
    }
   ],
   "source": [
    "one_year_csv_writer(2002, surveys_df)"
   ]
  },
  {
   "cell_type": "code",
   "execution_count": 24,
   "metadata": {},
   "outputs": [],
   "source": [
    "def yearly_data_csv_writer(start_year, end_year, all_data):\n",
    "    \"\"\"\n",
    "    Writes separate CSV files for each year of data.\n",
    "\n",
    "    start_year --- the first year of data we want\n",
    "    end_year --- the last year of data we want\n",
    "    all_data --- DataFrame with multi-year data\n",
    "    \"\"\""
   ]
  },
  {
   "cell_type": "code",
   "execution_count": 25,
   "metadata": {},
   "outputs": [],
   "source": [
    "surveys_df = pd.read_csv('Downloads/surveys.csv')"
   ]
  },
  {
   "cell_type": "code",
   "execution_count": 26,
   "metadata": {},
   "outputs": [],
   "source": [
    "yearly_data_csv_writer(1977, 2002, surveys_df)"
   ]
  },
  {
   "cell_type": "code",
   "execution_count": 27,
   "metadata": {},
   "outputs": [
    {
     "name": "stdout",
     "output_type": "stream",
     "text": [
      "Both optional arguments:\t 1988 1993\n",
      "Default values:\t\t\t 1977 2002\n"
     ]
    }
   ],
   "source": [
    "def yearly_data_arg_test(all_data, start_year = 1977, end_year = 2002):\n",
    "    \"\"\"\n",
    "    Modified from yearly_data_csv_writer to test default argument values!\n",
    "\n",
    "    start_year --- the first year of data we want --- default: 1977\n",
    "    end_year --- the last year of data we want --- default: 2002\n",
    "    all_data --- DataFrame with multi-year data\n",
    "    \"\"\"\n",
    "\n",
    "    return start_year, end_year\n",
    "\n",
    "\n",
    "start,end = yearly_data_arg_test (surveys_df, 1988, 1993)\n",
    "print('Both optional arguments:\\t', start, end)\n",
    "\n",
    "start,end = yearly_data_arg_test (surveys_df)\n",
    "print('Default values:\\t\\t\\t', start, end)"
   ]
  },
  {
   "cell_type": "code",
   "execution_count": 28,
   "metadata": {},
   "outputs": [
    {
     "name": "stdout",
     "output_type": "stream",
     "text": [
      "Both optional arguments:\t 1988 1993\n",
      "Default values:\t\t\t 1977 2002\n"
     ]
    }
   ],
   "source": [
    "def yearly_data_arg_test(all_data, start_year = None, end_year = None):\n",
    "    \"\"\"\n",
    "    Modified from yearly_data_csv_writer to test default argument values!\n",
    "\n",
    "    start_year --- the first year of data we want --- default: None - check all_data\n",
    "    end_year --- the last year of data we want --- default: None - check all_data\n",
    "    all_data --- DataFrame with multi-year data\n",
    "    \"\"\"\n",
    "\n",
    "    if start_year is None:\n",
    "        start_year = min(all_data.year)\n",
    "    if end_year is None:\n",
    "        end_year = max(all_data.year)\n",
    "\n",
    "    return start_year, end_year\n",
    "\n",
    "\n",
    "start,end = yearly_data_arg_test (surveys_df, 1988, 1993)\n",
    "print('Both optional arguments:\\t', start, end)\n",
    "\n",
    "start,end = yearly_data_arg_test (surveys_df)\n",
    "print('Default values:\\t\\t\\t', start, end)"
   ]
  },
  {
   "cell_type": "code",
   "execution_count": 29,
   "metadata": {},
   "outputs": [
    {
     "name": "stdout",
     "output_type": "stream",
     "text": [
      "a is a positive number\n"
     ]
    }
   ],
   "source": [
    "a = 5\n",
    "\n",
    "if a<0:  # Meets first condition?\n",
    "\n",
    "    # if a IS less than zero\n",
    "    print('a is a negative number')\n",
    "\n",
    "elif a>0:  # Did not meet first condition. meets second condition?\n",
    "\n",
    "    # if a ISN'T less than zero and IS more than zero\n",
    "    print('a is a positive number')\n",
    "\n",
    "else:  # Met neither condition\n",
    "\n",
    "    # if a ISN'T less than zero and ISN'T more than zero\n",
    "    print('a must be zero!')"
   ]
  },
  {
   "cell_type": "code",
   "execution_count": 30,
   "metadata": {},
   "outputs": [
    {
     "name": "stdout",
     "output_type": "stream",
     "text": [
      "Default values:\t\t\t 1977 2002\n",
      "No keywords:\t\t\t 1988 1993\n",
      "Both keywords, in order:\t 1988 1993\n",
      "Both keywords, flipped:\t\t 1988 1993\n",
      "One keyword, default end:\t 1988 2002\n",
      "One keyword, default start:\t 1977 1993\n"
     ]
    }
   ],
   "source": [
    "start,end = yearly_data_arg_test (surveys_df)\n",
    "print('Default values:\\t\\t\\t', start, end)\n",
    "\n",
    "start,end = yearly_data_arg_test (surveys_df, 1988, 1993)\n",
    "print('No keywords:\\t\\t\\t', start, end)\n",
    "\n",
    "start,end = yearly_data_arg_test (surveys_df, start_year = 1988, end_year = 1993)\n",
    "print('Both keywords, in order:\\t', start, end)\n",
    "\n",
    "start,end = yearly_data_arg_test (surveys_df, end_year = 1993, start_year = 1988)\n",
    "print('Both keywords, flipped:\\t\\t', start, end)\n",
    "\n",
    "start,end = yearly_data_arg_test (surveys_df, start_year = 1988)\n",
    "print('One keyword, default end:\\t', start, end)\n",
    "\n",
    "start,end = yearly_data_arg_test (surveys_df, end_year = 1993)\n",
    "print('One keyword, default start:\\t', start, end)"
   ]
  },
  {
   "cell_type": "code",
   "execution_count": 31,
   "metadata": {},
   "outputs": [
    {
     "name": "stdout",
     "output_type": "stream",
     "text": [
      "Processed directory created\n"
     ]
    }
   ],
   "source": [
    "if 'dir_name_here' in os.listdir('.'):\n",
    "   print('Processed directory exists')\n",
    "else:\n",
    "   os.mkdir('dir_name_here')\n",
    "   print('Processed directory created')"
   ]
  },
  {
   "cell_type": "code",
   "execution_count": null,
   "metadata": {},
   "outputs": [],
   "source": []
  }
 ],
 "metadata": {
  "kernelspec": {
   "display_name": "Python 3",
   "language": "python",
   "name": "python3"
  },
  "language_info": {
   "codemirror_mode": {
    "name": "ipython",
    "version": 3
   },
   "file_extension": ".py",
   "mimetype": "text/x-python",
   "name": "python",
   "nbconvert_exporter": "python",
   "pygments_lexer": "ipython3",
   "version": "3.7.4"
  }
 },
 "nbformat": 4,
 "nbformat_minor": 2
}
